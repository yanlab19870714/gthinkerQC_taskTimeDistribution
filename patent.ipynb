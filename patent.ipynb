{
 "cells": [
  {
   "cell_type": "markdown",
   "metadata": {},
   "source": [
    "# Load Youtube Data Task Statistics"
   ]
  },
  {
   "cell_type": "code",
   "execution_count": 1,
   "metadata": {},
   "outputs": [
    {
     "data": {
      "text/html": [
       "<div>\n",
       "<style scoped>\n",
       "    .dataframe tbody tr th:only-of-type {\n",
       "        vertical-align: middle;\n",
       "    }\n",
       "\n",
       "    .dataframe tbody tr th {\n",
       "        vertical-align: top;\n",
       "    }\n",
       "\n",
       "    .dataframe thead th {\n",
       "        text-align: right;\n",
       "    }\n",
       "</style>\n",
       "<table border=\"1\" class=\"dataframe\">\n",
       "  <thead>\n",
       "    <tr style=\"text-align: right;\">\n",
       "      <th></th>\n",
       "      <th>rootID</th>\n",
       "      <th>|V|</th>\n",
       "      <th>|E|</th>\n",
       "      <th>max_deg</th>\n",
       "      <th>avg_deg</th>\n",
       "      <th>core_number(depth)</th>\n",
       "      <th>deg1</th>\n",
       "      <th>deg2</th>\n",
       "      <th>deg3</th>\n",
       "      <th>deg4</th>\n",
       "      <th>...</th>\n",
       "      <th>core2</th>\n",
       "      <th>core3</th>\n",
       "      <th>core4</th>\n",
       "      <th>core5</th>\n",
       "      <th>core6</th>\n",
       "      <th>core7</th>\n",
       "      <th>core8</th>\n",
       "      <th>core9</th>\n",
       "      <th>core10</th>\n",
       "      <th>time(ms)</th>\n",
       "    </tr>\n",
       "  </thead>\n",
       "  <tbody>\n",
       "    <tr>\n",
       "      <th>0</th>\n",
       "      <td>64</td>\n",
       "      <td>37</td>\n",
       "      <td>354</td>\n",
       "      <td>24</td>\n",
       "      <td>9.57</td>\n",
       "      <td>17</td>\n",
       "      <td>24</td>\n",
       "      <td>22</td>\n",
       "      <td>22</td>\n",
       "      <td>21</td>\n",
       "      <td>...</td>\n",
       "      <td>17</td>\n",
       "      <td>17</td>\n",
       "      <td>17</td>\n",
       "      <td>17</td>\n",
       "      <td>17</td>\n",
       "      <td>17</td>\n",
       "      <td>17</td>\n",
       "      <td>17</td>\n",
       "      <td>17</td>\n",
       "      <td>0.0</td>\n",
       "    </tr>\n",
       "    <tr>\n",
       "      <th>1</th>\n",
       "      <td>0</td>\n",
       "      <td>517</td>\n",
       "      <td>12454</td>\n",
       "      <td>465</td>\n",
       "      <td>24.09</td>\n",
       "      <td>30</td>\n",
       "      <td>465</td>\n",
       "      <td>465</td>\n",
       "      <td>465</td>\n",
       "      <td>465</td>\n",
       "      <td>...</td>\n",
       "      <td>30</td>\n",
       "      <td>30</td>\n",
       "      <td>30</td>\n",
       "      <td>30</td>\n",
       "      <td>30</td>\n",
       "      <td>30</td>\n",
       "      <td>30</td>\n",
       "      <td>30</td>\n",
       "      <td>30</td>\n",
       "      <td>38.0</td>\n",
       "    </tr>\n",
       "    <tr>\n",
       "      <th>2</th>\n",
       "      <td>32</td>\n",
       "      <td>36</td>\n",
       "      <td>338</td>\n",
       "      <td>23</td>\n",
       "      <td>9.39</td>\n",
       "      <td>17</td>\n",
       "      <td>23</td>\n",
       "      <td>20</td>\n",
       "      <td>20</td>\n",
       "      <td>20</td>\n",
       "      <td>...</td>\n",
       "      <td>17</td>\n",
       "      <td>17</td>\n",
       "      <td>17</td>\n",
       "      <td>17</td>\n",
       "      <td>17</td>\n",
       "      <td>17</td>\n",
       "      <td>17</td>\n",
       "      <td>17</td>\n",
       "      <td>17</td>\n",
       "      <td>0.0</td>\n",
       "    </tr>\n",
       "    <tr>\n",
       "      <th>3</th>\n",
       "      <td>80</td>\n",
       "      <td>39</td>\n",
       "      <td>398</td>\n",
       "      <td>30</td>\n",
       "      <td>10.21</td>\n",
       "      <td>18</td>\n",
       "      <td>30</td>\n",
       "      <td>24</td>\n",
       "      <td>23</td>\n",
       "      <td>22</td>\n",
       "      <td>...</td>\n",
       "      <td>18</td>\n",
       "      <td>18</td>\n",
       "      <td>18</td>\n",
       "      <td>18</td>\n",
       "      <td>18</td>\n",
       "      <td>18</td>\n",
       "      <td>18</td>\n",
       "      <td>18</td>\n",
       "      <td>18</td>\n",
       "      <td>0.0</td>\n",
       "    </tr>\n",
       "    <tr>\n",
       "      <th>4</th>\n",
       "      <td>96</td>\n",
       "      <td>37</td>\n",
       "      <td>349</td>\n",
       "      <td>21</td>\n",
       "      <td>9.43</td>\n",
       "      <td>18</td>\n",
       "      <td>21</td>\n",
       "      <td>21</td>\n",
       "      <td>21</td>\n",
       "      <td>20</td>\n",
       "      <td>...</td>\n",
       "      <td>18</td>\n",
       "      <td>18</td>\n",
       "      <td>18</td>\n",
       "      <td>18</td>\n",
       "      <td>18</td>\n",
       "      <td>18</td>\n",
       "      <td>18</td>\n",
       "      <td>18</td>\n",
       "      <td>18</td>\n",
       "      <td>0.0</td>\n",
       "    </tr>\n",
       "  </tbody>\n",
       "</table>\n",
       "<p>5 rows × 27 columns</p>\n",
       "</div>"
      ],
      "text/plain": [
       "   rootID  |V|    |E|  max_deg  avg_deg  core_number(depth)  deg1  deg2  deg3  \\\n",
       "0      64   37    354       24     9.57                  17    24    22    22   \n",
       "1       0  517  12454      465    24.09                  30   465   465   465   \n",
       "2      32   36    338       23     9.39                  17    23    20    20   \n",
       "3      80   39    398       30    10.21                  18    30    24    23   \n",
       "4      96   37    349       21     9.43                  18    21    21    21   \n",
       "\n",
       "   deg4  ...  core2  core3  core4  core5  core6  core7  core8  core9  core10  \\\n",
       "0    21  ...     17     17     17     17     17     17     17     17      17   \n",
       "1   465  ...     30     30     30     30     30     30     30     30      30   \n",
       "2    20  ...     17     17     17     17     17     17     17     17      17   \n",
       "3    22  ...     18     18     18     18     18     18     18     18      18   \n",
       "4    20  ...     18     18     18     18     18     18     18     18      18   \n",
       "\n",
       "   time(ms)  \n",
       "0       0.0  \n",
       "1      38.0  \n",
       "2       0.0  \n",
       "3       0.0  \n",
       "4       0.0  \n",
       "\n",
       "[5 rows x 27 columns]"
      ]
     },
     "execution_count": 1,
     "metadata": {},
     "output_type": "execute_result"
    }
   ],
   "source": [
    "import pandas as pd\n",
    "\n",
    "df = pd.read_csv(\"patent.csv\")\n",
    "df.head(5)"
   ]
  },
  {
   "cell_type": "markdown",
   "metadata": {},
   "source": [
    "# Sort by Time"
   ]
  },
  {
   "cell_type": "code",
   "execution_count": 2,
   "metadata": {},
   "outputs": [
    {
     "data": {
      "text/html": [
       "<div>\n",
       "<style scoped>\n",
       "    .dataframe tbody tr th:only-of-type {\n",
       "        vertical-align: middle;\n",
       "    }\n",
       "\n",
       "    .dataframe tbody tr th {\n",
       "        vertical-align: top;\n",
       "    }\n",
       "\n",
       "    .dataframe thead th {\n",
       "        text-align: right;\n",
       "    }\n",
       "</style>\n",
       "<table border=\"1\" class=\"dataframe\">\n",
       "  <thead>\n",
       "    <tr style=\"text-align: right;\">\n",
       "      <th></th>\n",
       "      <th>rootID</th>\n",
       "      <th>|V|</th>\n",
       "      <th>|E|</th>\n",
       "      <th>max_deg</th>\n",
       "      <th>avg_deg</th>\n",
       "      <th>core_number(depth)</th>\n",
       "      <th>deg1</th>\n",
       "      <th>deg2</th>\n",
       "      <th>deg3</th>\n",
       "      <th>deg4</th>\n",
       "      <th>...</th>\n",
       "      <th>core2</th>\n",
       "      <th>core3</th>\n",
       "      <th>core4</th>\n",
       "      <th>core5</th>\n",
       "      <th>core6</th>\n",
       "      <th>core7</th>\n",
       "      <th>core8</th>\n",
       "      <th>core9</th>\n",
       "      <th>core10</th>\n",
       "      <th>time(ms)</th>\n",
       "    </tr>\n",
       "  </thead>\n",
       "  <tbody>\n",
       "    <tr>\n",
       "      <th>6876</th>\n",
       "      <td>16697</td>\n",
       "      <td>109</td>\n",
       "      <td>4232</td>\n",
       "      <td>93</td>\n",
       "      <td>38.83</td>\n",
       "      <td>64</td>\n",
       "      <td>93</td>\n",
       "      <td>93</td>\n",
       "      <td>92</td>\n",
       "      <td>92</td>\n",
       "      <td>...</td>\n",
       "      <td>64</td>\n",
       "      <td>64</td>\n",
       "      <td>64</td>\n",
       "      <td>64</td>\n",
       "      <td>64</td>\n",
       "      <td>64</td>\n",
       "      <td>64</td>\n",
       "      <td>64</td>\n",
       "      <td>64</td>\n",
       "      <td>729769.0</td>\n",
       "    </tr>\n",
       "    <tr>\n",
       "      <th>767</th>\n",
       "      <td>17050</td>\n",
       "      <td>93</td>\n",
       "      <td>3197</td>\n",
       "      <td>80</td>\n",
       "      <td>34.38</td>\n",
       "      <td>60</td>\n",
       "      <td>80</td>\n",
       "      <td>78</td>\n",
       "      <td>78</td>\n",
       "      <td>77</td>\n",
       "      <td>...</td>\n",
       "      <td>60</td>\n",
       "      <td>60</td>\n",
       "      <td>60</td>\n",
       "      <td>60</td>\n",
       "      <td>60</td>\n",
       "      <td>60</td>\n",
       "      <td>60</td>\n",
       "      <td>60</td>\n",
       "      <td>60</td>\n",
       "      <td>1006208.0</td>\n",
       "    </tr>\n",
       "    <tr>\n",
       "      <th>3755</th>\n",
       "      <td>16850</td>\n",
       "      <td>104</td>\n",
       "      <td>3914</td>\n",
       "      <td>88</td>\n",
       "      <td>37.63</td>\n",
       "      <td>64</td>\n",
       "      <td>88</td>\n",
       "      <td>88</td>\n",
       "      <td>87</td>\n",
       "      <td>87</td>\n",
       "      <td>...</td>\n",
       "      <td>64</td>\n",
       "      <td>64</td>\n",
       "      <td>64</td>\n",
       "      <td>64</td>\n",
       "      <td>64</td>\n",
       "      <td>64</td>\n",
       "      <td>64</td>\n",
       "      <td>64</td>\n",
       "      <td>64</td>\n",
       "      <td>1053326.0</td>\n",
       "    </tr>\n",
       "    <tr>\n",
       "      <th>4523</th>\n",
       "      <td>17012</td>\n",
       "      <td>95</td>\n",
       "      <td>3332</td>\n",
       "      <td>82</td>\n",
       "      <td>35.07</td>\n",
       "      <td>60</td>\n",
       "      <td>82</td>\n",
       "      <td>80</td>\n",
       "      <td>80</td>\n",
       "      <td>79</td>\n",
       "      <td>...</td>\n",
       "      <td>60</td>\n",
       "      <td>60</td>\n",
       "      <td>60</td>\n",
       "      <td>60</td>\n",
       "      <td>60</td>\n",
       "      <td>60</td>\n",
       "      <td>60</td>\n",
       "      <td>60</td>\n",
       "      <td>60</td>\n",
       "      <td>1083755.0</td>\n",
       "    </tr>\n",
       "    <tr>\n",
       "      <th>5063</th>\n",
       "      <td>17445</td>\n",
       "      <td>69</td>\n",
       "      <td>1786</td>\n",
       "      <td>65</td>\n",
       "      <td>25.88</td>\n",
       "      <td>43</td>\n",
       "      <td>65</td>\n",
       "      <td>65</td>\n",
       "      <td>62</td>\n",
       "      <td>62</td>\n",
       "      <td>...</td>\n",
       "      <td>43</td>\n",
       "      <td>43</td>\n",
       "      <td>43</td>\n",
       "      <td>43</td>\n",
       "      <td>43</td>\n",
       "      <td>43</td>\n",
       "      <td>43</td>\n",
       "      <td>43</td>\n",
       "      <td>43</td>\n",
       "      <td>1198085.0</td>\n",
       "    </tr>\n",
       "    <tr>\n",
       "      <th>1328</th>\n",
       "      <td>17297</td>\n",
       "      <td>78</td>\n",
       "      <td>2282</td>\n",
       "      <td>69</td>\n",
       "      <td>29.26</td>\n",
       "      <td>48</td>\n",
       "      <td>69</td>\n",
       "      <td>69</td>\n",
       "      <td>69</td>\n",
       "      <td>67</td>\n",
       "      <td>...</td>\n",
       "      <td>48</td>\n",
       "      <td>48</td>\n",
       "      <td>48</td>\n",
       "      <td>48</td>\n",
       "      <td>48</td>\n",
       "      <td>48</td>\n",
       "      <td>48</td>\n",
       "      <td>48</td>\n",
       "      <td>48</td>\n",
       "      <td>1220241.0</td>\n",
       "    </tr>\n",
       "    <tr>\n",
       "      <th>5278</th>\n",
       "      <td>17397</td>\n",
       "      <td>72</td>\n",
       "      <td>1950</td>\n",
       "      <td>66</td>\n",
       "      <td>27.08</td>\n",
       "      <td>45</td>\n",
       "      <td>66</td>\n",
       "      <td>66</td>\n",
       "      <td>64</td>\n",
       "      <td>64</td>\n",
       "      <td>...</td>\n",
       "      <td>45</td>\n",
       "      <td>45</td>\n",
       "      <td>45</td>\n",
       "      <td>45</td>\n",
       "      <td>45</td>\n",
       "      <td>45</td>\n",
       "      <td>45</td>\n",
       "      <td>45</td>\n",
       "      <td>45</td>\n",
       "      <td>1411622.0</td>\n",
       "    </tr>\n",
       "    <tr>\n",
       "      <th>66</th>\n",
       "      <td>17296</td>\n",
       "      <td>79</td>\n",
       "      <td>2346</td>\n",
       "      <td>69</td>\n",
       "      <td>29.70</td>\n",
       "      <td>49</td>\n",
       "      <td>69</td>\n",
       "      <td>69</td>\n",
       "      <td>69</td>\n",
       "      <td>67</td>\n",
       "      <td>...</td>\n",
       "      <td>49</td>\n",
       "      <td>49</td>\n",
       "      <td>49</td>\n",
       "      <td>49</td>\n",
       "      <td>49</td>\n",
       "      <td>49</td>\n",
       "      <td>49</td>\n",
       "      <td>49</td>\n",
       "      <td>49</td>\n",
       "      <td>1757738.0</td>\n",
       "    </tr>\n",
       "    <tr>\n",
       "      <th>1288</th>\n",
       "      <td>17153</td>\n",
       "      <td>88</td>\n",
       "      <td>2873</td>\n",
       "      <td>75</td>\n",
       "      <td>32.65</td>\n",
       "      <td>55</td>\n",
       "      <td>75</td>\n",
       "      <td>75</td>\n",
       "      <td>75</td>\n",
       "      <td>74</td>\n",
       "      <td>...</td>\n",
       "      <td>55</td>\n",
       "      <td>55</td>\n",
       "      <td>55</td>\n",
       "      <td>55</td>\n",
       "      <td>55</td>\n",
       "      <td>55</td>\n",
       "      <td>55</td>\n",
       "      <td>55</td>\n",
       "      <td>55</td>\n",
       "      <td>2658704.0</td>\n",
       "    </tr>\n",
       "    <tr>\n",
       "      <th>3056</th>\n",
       "      <td>17359</td>\n",
       "      <td>76</td>\n",
       "      <td>2167</td>\n",
       "      <td>68</td>\n",
       "      <td>28.51</td>\n",
       "      <td>47</td>\n",
       "      <td>68</td>\n",
       "      <td>68</td>\n",
       "      <td>68</td>\n",
       "      <td>66</td>\n",
       "      <td>...</td>\n",
       "      <td>47</td>\n",
       "      <td>47</td>\n",
       "      <td>47</td>\n",
       "      <td>47</td>\n",
       "      <td>47</td>\n",
       "      <td>47</td>\n",
       "      <td>47</td>\n",
       "      <td>47</td>\n",
       "      <td>47</td>\n",
       "      <td>2878700.0</td>\n",
       "    </tr>\n",
       "  </tbody>\n",
       "</table>\n",
       "<p>10 rows × 27 columns</p>\n",
       "</div>"
      ],
      "text/plain": [
       "      rootID  |V|   |E|  max_deg  avg_deg  core_number(depth)  deg1  deg2  \\\n",
       "6876   16697  109  4232       93    38.83                  64    93    93   \n",
       "767    17050   93  3197       80    34.38                  60    80    78   \n",
       "3755   16850  104  3914       88    37.63                  64    88    88   \n",
       "4523   17012   95  3332       82    35.07                  60    82    80   \n",
       "5063   17445   69  1786       65    25.88                  43    65    65   \n",
       "1328   17297   78  2282       69    29.26                  48    69    69   \n",
       "5278   17397   72  1950       66    27.08                  45    66    66   \n",
       "66     17296   79  2346       69    29.70                  49    69    69   \n",
       "1288   17153   88  2873       75    32.65                  55    75    75   \n",
       "3056   17359   76  2167       68    28.51                  47    68    68   \n",
       "\n",
       "      deg3  deg4  ...  core2  core3  core4  core5  core6  core7  core8  core9  \\\n",
       "6876    92    92  ...     64     64     64     64     64     64     64     64   \n",
       "767     78    77  ...     60     60     60     60     60     60     60     60   \n",
       "3755    87    87  ...     64     64     64     64     64     64     64     64   \n",
       "4523    80    79  ...     60     60     60     60     60     60     60     60   \n",
       "5063    62    62  ...     43     43     43     43     43     43     43     43   \n",
       "1328    69    67  ...     48     48     48     48     48     48     48     48   \n",
       "5278    64    64  ...     45     45     45     45     45     45     45     45   \n",
       "66      69    67  ...     49     49     49     49     49     49     49     49   \n",
       "1288    75    74  ...     55     55     55     55     55     55     55     55   \n",
       "3056    68    66  ...     47     47     47     47     47     47     47     47   \n",
       "\n",
       "      core10   time(ms)  \n",
       "6876      64   729769.0  \n",
       "767       60  1006208.0  \n",
       "3755      64  1053326.0  \n",
       "4523      60  1083755.0  \n",
       "5063      43  1198085.0  \n",
       "1328      48  1220241.0  \n",
       "5278      45  1411622.0  \n",
       "66        49  1757738.0  \n",
       "1288      55  2658704.0  \n",
       "3056      47  2878700.0  \n",
       "\n",
       "[10 rows x 27 columns]"
      ]
     },
     "execution_count": 2,
     "metadata": {},
     "output_type": "execute_result"
    }
   ],
   "source": [
    "df.sort_values(\"time(ms)\", inplace=True)\n",
    "df.tail(10)"
   ]
  },
  {
   "cell_type": "markdown",
   "metadata": {},
   "source": [
    "# |V| v.s. Time Plot"
   ]
  },
  {
   "cell_type": "code",
   "execution_count": 3,
   "metadata": {},
   "outputs": [],
   "source": [
    "import numpy as np\n",
    "\n",
    "x = np.array(df['|V|'])\n",
    "y = np.array(df['time(ms)'])"
   ]
  },
  {
   "cell_type": "markdown",
   "metadata": {},
   "source": [
    "### Ratio of {Total Time by All Tasks} / {Time of the Most Expensive Task}"
   ]
  },
  {
   "cell_type": "code",
   "execution_count": 4,
   "metadata": {},
   "outputs": [
    {
     "data": {
      "text/plain": [
       "8.812749157605865"
      ]
     },
     "execution_count": 4,
     "metadata": {},
     "output_type": "execute_result"
    }
   ],
   "source": [
    "np.sum(y)/np.max(y)"
   ]
  },
  {
   "cell_type": "code",
   "execution_count": 5,
   "metadata": {},
   "outputs": [
    {
     "data": {
      "text/plain": [
       "<matplotlib.collections.PathCollection at 0x114019f50>"
      ]
     },
     "execution_count": 5,
     "metadata": {},
     "output_type": "execute_result"
    },
    {
     "data": {
      "image/png": "[encoded data removed]",
      "text/plain": [
       "<Figure size 1440x720 with 1 Axes>"
      ]
     },
     "metadata": {
      "needs_background": "light"
     },
     "output_type": "display_data"
    }
   ],
   "source": [
    "import matplotlib.pyplot as plt\n",
    "\n",
    "plt.figure(figsize=(20,10))\n",
    "plt.scatter(x, y, s=16)"
   ]
  },
  {
   "cell_type": "markdown",
   "metadata": {},
   "source": [
    "# |E| v.s. Time Plot"
   ]
  },
  {
   "cell_type": "code",
   "execution_count": 6,
   "metadata": {},
   "outputs": [
    {
     "data": {
      "text/plain": [
       "<matplotlib.collections.PathCollection at 0x114a3e950>"
      ]
     },
     "execution_count": 6,
     "metadata": {},
     "output_type": "execute_result"
    },
    {
     "data": {
      "image/png": "[encoded data removed]",
      "text/plain": [
       "<Figure size 1440x720 with 1 Axes>"
      ]
     },
     "metadata": {
      "needs_background": "light"
     },
     "output_type": "display_data"
    }
   ],
   "source": [
    "import numpy as np\n",
    "import matplotlib.pyplot as plt\n",
    "\n",
    "x = np.array(df['|E|'])\n",
    "y = np.array(df['time(ms)'])\n",
    "\n",
    "plt.figure(figsize=(20,10))\n",
    "plt.scatter(x, y, s=16)"
   ]
  },
  {
   "cell_type": "markdown",
   "metadata": {},
   "source": [
    "# max_deg v.s. Time Plot"
   ]
  },
  {
   "cell_type": "code",
   "execution_count": 7,
   "metadata": {},
   "outputs": [
    {
     "data": {
      "text/plain": [
       "<matplotlib.collections.PathCollection at 0x114b8be10>"
      ]
     },
     "execution_count": 7,
     "metadata": {},
     "output_type": "execute_result"
    },
    {
     "data": {
      "image/png": "[encoded data removed]",
      "text/plain": [
       "<Figure size 1440x720 with 1 Axes>"
      ]
     },
     "metadata": {
      "needs_background": "light"
     },
     "output_type": "display_data"
    }
   ],
   "source": [
    "import numpy as np\n",
    "import matplotlib.pyplot as plt\n",
    "\n",
    "x = np.array(df['avg_deg'])\n",
    "y = np.array(df['time(ms)'])\n",
    "\n",
    "plt.figure(figsize=(20,10))\n",
    "plt.scatter(x, y, s=16)"
   ]
  },
  {
   "cell_type": "markdown",
   "metadata": {},
   "source": [
    "# avg_deg v.s. Time Plot"
   ]
  },
  {
   "cell_type": "code",
   "execution_count": 8,
   "metadata": {},
   "outputs": [
    {
     "data": {
      "text/plain": [
       "<matplotlib.collections.PathCollection at 0x114b95a90>"
      ]
     },
     "execution_count": 8,
     "metadata": {},
     "output_type": "execute_result"
    },
    {
     "data": {
      "image/png": "[encoded data removed]",
      "text/plain": [
       "<Figure size 1440x720 with 1 Axes>"
      ]
     },
     "metadata": {
      "needs_background": "light"
     },
     "output_type": "display_data"
    }
   ],
   "source": [
    "import numpy as np\n",
    "import matplotlib.pyplot as plt\n",
    "\n",
    "x = np.array(df['max_deg'])\n",
    "y = np.array(df['time(ms)'])\n",
    "\n",
    "plt.figure(figsize=(20,10))\n",
    "plt.scatter(x, y, s=16)"
   ]
  },
  {
   "cell_type": "markdown",
   "metadata": {},
   "source": [
    "# core_number(depth) v.s. Time Plot"
   ]
  },
  {
   "cell_type": "code",
   "execution_count": 9,
   "metadata": {},
   "outputs": [
    {
     "data": {
      "text/plain": [
       "<matplotlib.collections.PathCollection at 0x114c7fe50>"
      ]
     },
     "execution_count": 9,
     "metadata": {},
     "output_type": "execute_result"
    },
    {
     "data": {
      "image/png": "[encoded data removed]",
      "text/plain": [
       "<Figure size 1440x720 with 1 Axes>"
      ]
     },
     "metadata": {
      "needs_background": "light"
     },
     "output_type": "display_data"
    }
   ],
   "source": [
    "import numpy as np\n",
    "import matplotlib.pyplot as plt\n",
    "\n",
    "x = np.array(df['core_number(depth)'])\n",
    "y = np.array(df['time(ms)'])\n",
    "\n",
    "plt.figure(figsize=(20,10))\n",
    "plt.scatter(x, y, s=16)"
   ]
  },
  {
   "cell_type": "markdown",
   "metadata": {},
   "source": [
    "# SVM Regression over All Features"
   ]
  },
  {
   "cell_type": "code",
   "execution_count": 10,
   "metadata": {},
   "outputs": [],
   "source": [
    "X = np.array(df)"
   ]
  },
  {
   "cell_type": "markdown",
   "metadata": {},
   "source": [
    "We use all data for training, and simply check if the training error is small;\n",
    "if this is not the case, it won't generalize to test data unseen before"
   ]
  },
  {
   "cell_type": "code",
   "execution_count": 11,
   "metadata": {},
   "outputs": [],
   "source": [
    "X_train = X[:, 1:-1] # 0 is rootID (spawning vertex)\n",
    "y_train = X[:, -1]"
   ]
  },
  {
   "cell_type": "code",
   "execution_count": 12,
   "metadata": {},
   "outputs": [
    {
     "name": "stdout",
     "output_type": "stream",
     "text": [
      "CPU times: user 4.19 s, sys: 298 ms, total: 4.49 s\n",
      "Wall time: 4.28 s\n"
     ]
    },
    {
     "data": {
      "text/plain": [
       "[(729769.0, 5.526851446407024),\n",
       " (1006208.0, 3.8446129903851904),\n",
       " (1053326.0, 4.990282158927296),\n",
       " (1083755.0, 4.068919570770553),\n",
       " (1198085.0, 1.4764157437871948),\n",
       " (1220241.0, 2.316730661776419),\n",
       " (1411622.0, 1.7461242210934493),\n",
       " (1757738.0, 2.4297908344738444),\n",
       " (2658704.0, 3.3213098988126015),\n",
       " (2878700.0, 2.110135589364859)]"
      ]
     },
     "execution_count": 12,
     "metadata": {},
     "output_type": "execute_result"
    }
   ],
   "source": [
    "%%time\n",
    "\n",
    "from sklearn.svm import SVR\n",
    "\n",
    "svr = SVR()\n",
    "\n",
    "svr.fit(X_train, y_train)\n",
    "yhat = svr.predict(X_train)\n",
    "\n",
    "# check the last 10 tasks (sorted by time so 10 most long-running tasks)\n",
    "list(zip(y_train[-10:], yhat[-10:])) # actual time v.s. predicted time"
   ]
  }
 ],
 "metadata": {
  "kernelspec": {
   "display_name": "Python 3",
   "language": "python",
   "name": "python3"
  },
  "language_info": {
   "codemirror_mode": {
    "name": "ipython",
    "version": 3
   },
   "file_extension": ".py",
   "mimetype": "text/x-python",
   "name": "python",
   "nbconvert_exporter": "python",
   "pygments_lexer": "ipython3",
   "version": "3.7.6"
  }
 },
 "nbformat": 4,
 "nbformat_minor": 4
}
